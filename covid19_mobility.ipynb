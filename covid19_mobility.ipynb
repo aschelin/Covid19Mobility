{
  "nbformat": 4,
  "nbformat_minor": 0,
  "metadata": {
    "colab": {
      "name": "covid19_mobility.ipynb",
      "provenance": [],
      "collapsed_sections": [],
      "toc_visible": true,
      "include_colab_link": true
    },
    "kernelspec": {
      "display_name": "Python 3",
      "language": "python",
      "name": "python3"
    },
    "language_info": {
      "codemirror_mode": {
        "name": "ipython",
        "version": 3
      },
      "file_extension": ".py",
      "mimetype": "text/x-python",
      "name": "python",
      "nbconvert_exporter": "python",
      "pygments_lexer": "ipython3",
      "version": "3.8.3"
    }
  },
  "cells": [
    {
      "cell_type": "markdown",
      "metadata": {
        "id": "view-in-github",
        "colab_type": "text"
      },
      "source": [
        "<a href=\"https://colab.research.google.com/github/aschelin/Covid19Mobility/blob/main/covid19_mobility.ipynb\" target=\"_parent\"><img src=\"https://colab.research.google.com/assets/colab-badge.svg\" alt=\"Open In Colab\"/></a>"
      ]
    },
    {
      "cell_type": "markdown",
      "metadata": {
        "id": "fEe2LvShr-9r"
      },
      "source": [
        "\n",
        "\n",
        "## Importing packages:"
      ]
    },
    {
      "cell_type": "code",
      "metadata": {
        "id": "OMp3FjiuGk7k",
        "colab": {
          "base_uri": "https://localhost:8080/"
        },
        "outputId": "edf5434b-a622-4f27-bd56-545d10c5dd45"
      },
      "source": [
        "import os\n",
        "import pandas as pd\n",
        "import matplotlib.pyplot as plt\n",
        "import numpy as np\n",
        "import seaborn as sb\n",
        "from pylab import rcParams\n",
        "import math\n",
        "import scipy.stats as st\n",
        "import statistics\n",
        "from statsmodels.tsa.stattools import adfuller\n",
        "import statsmodels as sm\n"
      ],
      "execution_count": 1,
      "outputs": [
        {
          "output_type": "stream",
          "name": "stderr",
          "text": [
            "/usr/local/lib/python3.7/dist-packages/statsmodels/tools/_testing.py:19: FutureWarning: pandas.util.testing is deprecated. Use the functions in the public API at pandas.testing instead.\n",
            "  import pandas.util.testing as tm\n"
          ]
        }
      ]
    },
    {
      "cell_type": "markdown",
      "metadata": {
        "id": "buhgK-1hsETQ"
      },
      "source": [
        "## Loading and cleaning data:\n",
        "\n",
        "---\n",
        "\n"
      ]
    },
    {
      "cell_type": "code",
      "metadata": {
        "id": "XZJqwberG1xZ"
      },
      "source": [
        "# Load Brazil's Mobility data: \n",
        "df = pd.read_csv('https://raw.githubusercontent.com/ActiveConclusion/COVID19_mobility/master/google_reports/mobility_report_brazil.csv').set_index('date')\n"
      ],
      "execution_count": 2,
      "outputs": []
    },
    {
      "cell_type": "code",
      "metadata": {
        "id": "A-xOyGafr9sF"
      },
      "source": [
        "df.index = pd.to_datetime(df.index)\n"
      ],
      "execution_count": 3,
      "outputs": []
    },
    {
      "cell_type": "code",
      "metadata": {
        "colab": {
          "base_uri": "https://localhost:8080/"
        },
        "id": "LRWiMTpCIcz3",
        "outputId": "af4fa86c-8b82-49cd-93be-e5996e46e6e8"
      },
      "source": [
        "df['sub region 1'].unique()"
      ],
      "execution_count": 4,
      "outputs": [
        {
          "output_type": "execute_result",
          "data": {
            "text/plain": [
              "array(['Total', 'Federal District', 'State of Acre', 'State of Alagoas',\n",
              "       'State of Amapá', 'State of Amazonas', 'State of Bahia',\n",
              "       'State of Ceará', 'State of Espírito Santo', 'State of Goiás',\n",
              "       'State of Maranhão', 'State of Mato Grosso',\n",
              "       'State of Mato Grosso do Sul', 'State of Minas Gerais',\n",
              "       'State of Pará', 'State of Paraíba', 'State of Paraná',\n",
              "       'State of Pernambuco', 'State of Piauí', 'State of Rio de Janeiro',\n",
              "       'State of Rio Grande do Norte', 'State of Rio Grande do Sul',\n",
              "       'State of Rondônia', 'State of Roraima', 'State of Santa Catarina',\n",
              "       'State of São Paulo', 'State of Sergipe', 'State of Tocantins'],\n",
              "      dtype=object)"
            ]
          },
          "metadata": {},
          "execution_count": 4
        }
      ]
    },
    {
      "cell_type": "code",
      "metadata": {
        "id": "RNku5AQkIfj6"
      },
      "source": [
        "df_gdf = df[df['sub region 1']=='Federal District']"
      ],
      "execution_count": 5,
      "outputs": []
    },
    {
      "cell_type": "code",
      "metadata": {
        "colab": {
          "base_uri": "https://localhost:8080/"
        },
        "id": "KkHpdnzRKUBY",
        "outputId": "8111cae5-c302-4fd7-a9d2-db45400bc920"
      },
      "source": [
        "df_gdf.size"
      ],
      "execution_count": 6,
      "outputs": [
        {
          "output_type": "execute_result",
          "data": {
            "text/plain": [
              "5112"
            ]
          },
          "metadata": {},
          "execution_count": 6
        }
      ]
    },
    {
      "cell_type": "code",
      "metadata": {
        "colab": {
          "base_uri": "https://localhost:8080/"
        },
        "id": "TiiJWV4pK4zI",
        "outputId": "64c14e0f-8777-43c2-a98c-28e04f7bc243"
      },
      "source": [
        "df_gdf.columns"
      ],
      "execution_count": 7,
      "outputs": [
        {
          "output_type": "execute_result",
          "data": {
            "text/plain": [
              "Index(['country', 'sub region 1', 'sub region 2', 'retail and recreation',\n",
              "       'grocery and pharmacy', 'parks', 'transit stations', 'workplaces',\n",
              "       'residential'],\n",
              "      dtype='object')"
            ]
          },
          "metadata": {},
          "execution_count": 7
        }
      ]
    },
    {
      "cell_type": "markdown",
      "metadata": {
        "id": "xmxtEdJwsWJc"
      },
      "source": [
        "## Making graphics:"
      ]
    },
    {
      "cell_type": "code",
      "metadata": {
        "colab": {
          "base_uri": "https://localhost:8080/",
          "height": 291
        },
        "id": "jMfqGajiKWkW",
        "outputId": "bbcb5a32-fbfe-4c54-8461-fc83a84df311"
      },
      "source": [
        "df_gdf['parks'].resample('W').mean().plot();"
      ],
      "execution_count": 8,
      "outputs": [
        {
          "output_type": "display_data",
          "data": {
            "image/png": "[encoded data removed]",
            "text/plain": [
              "<Figure size 432x288 with 1 Axes>"
            ]
          },
          "metadata": {
            "needs_background": "light"
          }
        }
      ]
    },
    {
      "cell_type": "code",
      "metadata": {
        "id": "IjH04_xfKtGB"
      },
      "source": [
        "df_gfd_corr = df_gdf[['retail and recreation',\n",
        "       'grocery and pharmacy', 'parks', 'transit stations', 'workplaces',\n",
        "       'residential']]"
      ],
      "execution_count": 9,
      "outputs": []
    },
    {
      "cell_type": "code",
      "metadata": {
        "id": "QPmNpjEQr9sI"
      },
      "source": [
        "dfcorr = df_gfd_corr.corr()"
      ],
      "execution_count": 10,
      "outputs": []
    },
    {
      "cell_type": "code",
      "metadata": {
        "colab": {
          "base_uri": "https://localhost:8080/",
          "height": 587
        },
        "id": "A2nGepXOr9sI",
        "outputId": "08953b1b-fb18-4624-b71b-acbe668189ff"
      },
      "source": [
        "fig, (ax2) = plt.subplots(1,figsize=(10,5),dpi=100)\n",
        "cmap = sb.diverging_palette(230, 20, as_cmap=True)\n",
        "\n",
        "sb.heatmap(dfcorr,annot=True);"
      ],
      "execution_count": 11,
      "outputs": [
        {
          "output_type": "display_data",
          "data": {
            "image/png": "[encoded data removed]",
            "text/plain": [
              "<Figure size 1000x500 with 2 Axes>"
            ]
          },
          "metadata": {
            "needs_background": "light"
          }
        }
      ]
    },
    {
      "cell_type": "markdown",
      "metadata": {
        "id": "dfQ5bBsXsc2h"
      },
      "source": [
        "## Loading and cleaning data from Covid19 in the GDF/ Brazil\n",
        "\n",
        "\n"
      ]
    },
    {
      "cell_type": "code",
      "metadata": {
        "id": "QOgpzs__r9sI"
      },
      "source": [
        "df_covid = pd.read_csv('https://raw.githubusercontent.com/wcota/covid19br/master/cases-brazil-states.csv').set_index('date')\n"
      ],
      "execution_count": 12,
      "outputs": []
    },
    {
      "cell_type": "code",
      "metadata": {
        "colab": {
          "base_uri": "https://localhost:8080/",
          "height": 338
        },
        "id": "5LDOKSDdr9sJ",
        "outputId": "c3695a29-e027-4d3a-8d69-d588718367a3"
      },
      "source": [
        "df_covid.tail(5)"
      ],
      "execution_count": 13,
      "outputs": [
        {
          "output_type": "execute_result",
          "data": {
            "text/html": [
              "<div>\n",
              "<style scoped>\n",
              "    .dataframe tbody tr th:only-of-type {\n",
              "        vertical-align: middle;\n",
              "    }\n",
              "\n",
              "    .dataframe tbody tr th {\n",
              "        vertical-align: top;\n",
              "    }\n",
              "\n",
              "    .dataframe thead th {\n",
              "        text-align: right;\n",
              "    }\n",
              "</style>\n",
              "<table border=\"1\" class=\"dataframe\">\n",
              "  <thead>\n",
              "    <tr style=\"text-align: right;\">\n",
              "      <th></th>\n",
              "      <th>epi_week</th>\n",
              "      <th>country</th>\n",
              "      <th>state</th>\n",
              "      <th>city</th>\n",
              "      <th>newDeaths</th>\n",
              "      <th>deaths</th>\n",
              "      <th>newCases</th>\n",
              "      <th>totalCases</th>\n",
              "      <th>deathsMS</th>\n",
              "      <th>totalCasesMS</th>\n",
              "      <th>deaths_per_100k_inhabitants</th>\n",
              "      <th>totalCases_per_100k_inhabitants</th>\n",
              "      <th>deaths_by_totalCases</th>\n",
              "      <th>recovered</th>\n",
              "      <th>suspects</th>\n",
              "      <th>tests</th>\n",
              "      <th>tests_per_100k_inhabitants</th>\n",
              "      <th>vaccinated</th>\n",
              "      <th>vaccinated_per_100_inhabitants</th>\n",
              "      <th>vaccinated_second</th>\n",
              "      <th>vaccinated_second_per_100_inhabitants</th>\n",
              "      <th>vaccinated_single</th>\n",
              "      <th>vaccinated_single_per_100_inhabitants</th>\n",
              "      <th>vaccinated_third</th>\n",
              "      <th>vaccinated_third_per_100_inhabitants</th>\n",
              "    </tr>\n",
              "    <tr>\n",
              "      <th>date</th>\n",
              "      <th></th>\n",
              "      <th></th>\n",
              "      <th></th>\n",
              "      <th></th>\n",
              "      <th></th>\n",
              "      <th></th>\n",
              "      <th></th>\n",
              "      <th></th>\n",
              "      <th></th>\n",
              "      <th></th>\n",
              "      <th></th>\n",
              "      <th></th>\n",
              "      <th></th>\n",
              "      <th></th>\n",
              "      <th></th>\n",
              "      <th></th>\n",
              "      <th></th>\n",
              "      <th></th>\n",
              "      <th></th>\n",
              "      <th></th>\n",
              "      <th></th>\n",
              "      <th></th>\n",
              "      <th></th>\n",
              "      <th></th>\n",
              "      <th></th>\n",
              "    </tr>\n",
              "  </thead>\n",
              "  <tbody>\n",
              "    <tr>\n",
              "      <th>2021-09-08</th>\n",
              "      <td>136</td>\n",
              "      <td>Brazil</td>\n",
              "      <td>SC</td>\n",
              "      <td>TOTAL</td>\n",
              "      <td>22</td>\n",
              "      <td>18853</td>\n",
              "      <td>680</td>\n",
              "      <td>1164514</td>\n",
              "      <td>18853</td>\n",
              "      <td>1164514</td>\n",
              "      <td>263.13409</td>\n",
              "      <td>16253.29319</td>\n",
              "      <td>0.01619</td>\n",
              "      <td>1132524.0</td>\n",
              "      <td>189692.0</td>\n",
              "      <td>2320266.0</td>\n",
              "      <td>32384.29385</td>\n",
              "      <td>4874769.0</td>\n",
              "      <td>68.03787</td>\n",
              "      <td>2170175.0</td>\n",
              "      <td>30.28945</td>\n",
              "      <td>237323.0</td>\n",
              "      <td>3.31235</td>\n",
              "      <td>NaN</td>\n",
              "      <td>NaN</td>\n",
              "    </tr>\n",
              "    <tr>\n",
              "      <th>2021-09-08</th>\n",
              "      <td>136</td>\n",
              "      <td>Brazil</td>\n",
              "      <td>SE</td>\n",
              "      <td>TOTAL</td>\n",
              "      <td>0</td>\n",
              "      <td>6001</td>\n",
              "      <td>11</td>\n",
              "      <td>277600</td>\n",
              "      <td>6001</td>\n",
              "      <td>277600</td>\n",
              "      <td>261.06105</td>\n",
              "      <td>12076.41202</td>\n",
              "      <td>0.02162</td>\n",
              "      <td>269006.0</td>\n",
              "      <td>445.0</td>\n",
              "      <td>593883.0</td>\n",
              "      <td>25835.64769</td>\n",
              "      <td>1436753.0</td>\n",
              "      <td>62.50296</td>\n",
              "      <td>565854.0</td>\n",
              "      <td>24.61630</td>\n",
              "      <td>39952.0</td>\n",
              "      <td>1.73803</td>\n",
              "      <td>NaN</td>\n",
              "      <td>NaN</td>\n",
              "    </tr>\n",
              "    <tr>\n",
              "      <th>2021-09-08</th>\n",
              "      <td>136</td>\n",
              "      <td>Brazil</td>\n",
              "      <td>SP</td>\n",
              "      <td>TOTAL</td>\n",
              "      <td>15</td>\n",
              "      <td>146610</td>\n",
              "      <td>2080</td>\n",
              "      <td>4297229</td>\n",
              "      <td>146610</td>\n",
              "      <td>4297229</td>\n",
              "      <td>319.27926</td>\n",
              "      <td>9358.27090</td>\n",
              "      <td>0.03412</td>\n",
              "      <td>4055982.0</td>\n",
              "      <td>1137203.0</td>\n",
              "      <td>14183490.0</td>\n",
              "      <td>30888.03080</td>\n",
              "      <td>34973009.0</td>\n",
              "      <td>76.16231</td>\n",
              "      <td>18341677.0</td>\n",
              "      <td>39.94350</td>\n",
              "      <td>1148662.0</td>\n",
              "      <td>2.50149</td>\n",
              "      <td>20635.0</td>\n",
              "      <td>0.04494</td>\n",
              "    </tr>\n",
              "    <tr>\n",
              "      <th>2021-09-08</th>\n",
              "      <td>136</td>\n",
              "      <td>Brazil</td>\n",
              "      <td>TO</td>\n",
              "      <td>TOTAL</td>\n",
              "      <td>0</td>\n",
              "      <td>3706</td>\n",
              "      <td>0</td>\n",
              "      <td>220372</td>\n",
              "      <td>3706</td>\n",
              "      <td>220372</td>\n",
              "      <td>235.62083</td>\n",
              "      <td>14010.85661</td>\n",
              "      <td>0.01682</td>\n",
              "      <td>210048.0</td>\n",
              "      <td>359.0</td>\n",
              "      <td>660181.0</td>\n",
              "      <td>41973.12422</td>\n",
              "      <td>857047.0</td>\n",
              "      <td>54.48951</td>\n",
              "      <td>353166.0</td>\n",
              "      <td>22.45366</td>\n",
              "      <td>30082.0</td>\n",
              "      <td>1.91256</td>\n",
              "      <td>NaN</td>\n",
              "      <td>NaN</td>\n",
              "    </tr>\n",
              "    <tr>\n",
              "      <th>2021-09-08</th>\n",
              "      <td>136</td>\n",
              "      <td>Brazil</td>\n",
              "      <td>TOTAL</td>\n",
              "      <td>TOTAL</td>\n",
              "      <td>239</td>\n",
              "      <td>584678</td>\n",
              "      <td>14008</td>\n",
              "      <td>20932341</td>\n",
              "      <td>584421</td>\n",
              "      <td>20928008</td>\n",
              "      <td>274.08798</td>\n",
              "      <td>9812.75674</td>\n",
              "      <td>0.02793</td>\n",
              "      <td>19295628.0</td>\n",
              "      <td>7958935.0</td>\n",
              "      <td>57198050.0</td>\n",
              "      <td>26813.55854</td>\n",
              "      <td>136137280.0</td>\n",
              "      <td>63.81904</td>\n",
              "      <td>64449925.0</td>\n",
              "      <td>30.21313</td>\n",
              "      <td>4683394.0</td>\n",
              "      <td>2.19550</td>\n",
              "      <td>25446.0</td>\n",
              "      <td>0.01193</td>\n",
              "    </tr>\n",
              "  </tbody>\n",
              "</table>\n",
              "</div>"
            ],
            "text/plain": [
              "            epi_week  ... vaccinated_third_per_100_inhabitants\n",
              "date                  ...                                     \n",
              "2021-09-08       136  ...                                  NaN\n",
              "2021-09-08       136  ...                                  NaN\n",
              "2021-09-08       136  ...                              0.04494\n",
              "2021-09-08       136  ...                                  NaN\n",
              "2021-09-08       136  ...                              0.01193\n",
              "\n",
              "[5 rows x 25 columns]"
            ]
          },
          "metadata": {},
          "execution_count": 13
        }
      ]
    },
    {
      "cell_type": "code",
      "metadata": {
        "id": "bwfjrRMbr9sJ"
      },
      "source": [
        "max_date = max(df_gdf.index)\n",
        "min_date = min(df_covid.index)"
      ],
      "execution_count": 14,
      "outputs": []
    },
    {
      "cell_type": "code",
      "metadata": {
        "colab": {
          "base_uri": "https://localhost:8080/",
          "height": 35
        },
        "id": "wjGKfaDyr9sJ",
        "outputId": "a57d73d3-3b0b-4a52-9670-ff1087b894dc"
      },
      "source": [
        "max(df_covid.index)"
      ],
      "execution_count": 15,
      "outputs": [
        {
          "output_type": "execute_result",
          "data": {
            "application/vnd.google.colaboratory.intrinsic+json": {
              "type": "string"
            },
            "text/plain": [
              "'2021-09-08'"
            ]
          },
          "metadata": {},
          "execution_count": 15
        }
      ]
    },
    {
      "cell_type": "code",
      "metadata": {
        "colab": {
          "base_uri": "https://localhost:8080/"
        },
        "id": "snD3NoIpr9sJ",
        "outputId": "d026dd9e-ece2-4ed5-9aee-b879542fce2e"
      },
      "source": [
        "df_covid.columns"
      ],
      "execution_count": 16,
      "outputs": [
        {
          "output_type": "execute_result",
          "data": {
            "text/plain": [
              "Index(['epi_week', 'country', 'state', 'city', 'newDeaths', 'deaths',\n",
              "       'newCases', 'totalCases', 'deathsMS', 'totalCasesMS',\n",
              "       'deaths_per_100k_inhabitants', 'totalCases_per_100k_inhabitants',\n",
              "       'deaths_by_totalCases', 'recovered', 'suspects', 'tests',\n",
              "       'tests_per_100k_inhabitants', 'vaccinated',\n",
              "       'vaccinated_per_100_inhabitants', 'vaccinated_second',\n",
              "       'vaccinated_second_per_100_inhabitants', 'vaccinated_single',\n",
              "       'vaccinated_single_per_100_inhabitants', 'vaccinated_third',\n",
              "       'vaccinated_third_per_100_inhabitants'],\n",
              "      dtype='object')"
            ]
          },
          "metadata": {},
          "execution_count": 16
        }
      ]
    },
    {
      "cell_type": "code",
      "metadata": {
        "id": "4Z2r0sj8r9sK"
      },
      "source": [
        "df_covid.index = pd.to_datetime(df_covid.index)\n"
      ],
      "execution_count": 17,
      "outputs": []
    },
    {
      "cell_type": "code",
      "metadata": {
        "id": "H0yNJLsRr9sK"
      },
      "source": [
        "df_covid_gdf= df_covid[df_covid.state == 'DF']"
      ],
      "execution_count": 18,
      "outputs": []
    },
    {
      "cell_type": "code",
      "metadata": {
        "colab": {
          "base_uri": "https://localhost:8080/",
          "height": 308
        },
        "id": "Ls9Dzn9nr9sK",
        "outputId": "419c2443-12cf-4842-e696-328f3894fdd9"
      },
      "source": [
        "df_covid_gdf.newDeaths.resample('W').mean().plot()"
      ],
      "execution_count": 19,
      "outputs": [
        {
          "output_type": "execute_result",
          "data": {
            "text/plain": [
              "<matplotlib.axes._subplots.AxesSubplot at 0x7f14329a2e50>"
            ]
          },
          "metadata": {},
          "execution_count": 19
        },
        {
          "output_type": "display_data",
          "data": {
            "image/png": "[encoded data removed]",
            "text/plain": [
              "<Figure size 432x288 with 1 Axes>"
            ]
          },
          "metadata": {
            "needs_background": "light"
          }
        }
      ]
    },
    {
      "cell_type": "code",
      "metadata": {
        "id": "HWVYbgotr9sK"
      },
      "source": [
        "df_geral = df_gdf[min_date:max_date]"
      ],
      "execution_count": 20,
      "outputs": []
    },
    {
      "cell_type": "code",
      "metadata": {
        "colab": {
          "base_uri": "https://localhost:8080/"
        },
        "id": "NJZzTrmrr9sK",
        "outputId": "1178995f-9902-49f1-c806-bf46a9e5291d"
      },
      "source": [
        "df_gdf.shape"
      ],
      "execution_count": 21,
      "outputs": [
        {
          "output_type": "execute_result",
          "data": {
            "text/plain": [
              "(568, 9)"
            ]
          },
          "metadata": {},
          "execution_count": 21
        }
      ]
    },
    {
      "cell_type": "code",
      "metadata": {
        "colab": {
          "base_uri": "https://localhost:8080/"
        },
        "id": "0UyxExuMr9sL",
        "outputId": "9f30f572-00b4-4f8a-98e8-434e3a5b820f"
      },
      "source": [
        "df_covid_gdf[min_date:max_date].shape"
      ],
      "execution_count": 22,
      "outputs": [
        {
          "output_type": "execute_result",
          "data": {
            "text/plain": [
              "(547, 25)"
            ]
          },
          "metadata": {},
          "execution_count": 22
        }
      ]
    },
    {
      "cell_type": "code",
      "metadata": {
        "colab": {
          "base_uri": "https://localhost:8080/"
        },
        "id": "rmhThAmPr9sL",
        "outputId": "5ebfb19f-af9f-4f9f-cb80-d4b04501adeb"
      },
      "source": [
        "df_geral[~df_geral.index.isin(df_covid_gdf.index)].index\n"
      ],
      "execution_count": 23,
      "outputs": [
        {
          "output_type": "execute_result",
          "data": {
            "text/plain": [
              "DatetimeIndex(['2020-02-25', '2020-02-26', '2020-02-27', '2020-02-28',\n",
              "               '2020-02-29', '2020-03-01', '2020-03-02', '2020-03-03',\n",
              "               '2020-03-04', '2020-03-05', '2020-03-06'],\n",
              "              dtype='datetime64[ns]', name='date', freq=None)"
            ]
          },
          "metadata": {},
          "execution_count": 23
        }
      ]
    },
    {
      "cell_type": "code",
      "metadata": {
        "id": "NvZv-pfQr9sL"
      },
      "source": [
        "df_geral = df_gdf['2020-03-07':max_date]"
      ],
      "execution_count": 24,
      "outputs": []
    },
    {
      "cell_type": "code",
      "metadata": {
        "id": "E7IfXI7Jr9sL"
      },
      "source": [
        "df_geral1 = pd.merge(df_geral, df_covid_gdf, left_index=True, right_index=True)\n"
      ],
      "execution_count": 25,
      "outputs": []
    },
    {
      "cell_type": "code",
      "metadata": {
        "colab": {
          "base_uri": "https://localhost:8080/",
          "height": 610
        },
        "id": "OiUVoV9Zr9sL",
        "outputId": "a523e55d-106a-4287-c955-8dac2ba047d3"
      },
      "source": [
        "df_geral1.sample(10)"
      ],
      "execution_count": 26,
      "outputs": [
        {
          "output_type": "execute_result",
          "data": {
            "text/html": [
              "<div>\n",
              "<style scoped>\n",
              "    .dataframe tbody tr th:only-of-type {\n",
              "        vertical-align: middle;\n",
              "    }\n",
              "\n",
              "    .dataframe tbody tr th {\n",
              "        vertical-align: top;\n",
              "    }\n",
              "\n",
              "    .dataframe thead th {\n",
              "        text-align: right;\n",
              "    }\n",
              "</style>\n",
              "<table border=\"1\" class=\"dataframe\">\n",
              "  <thead>\n",
              "    <tr style=\"text-align: right;\">\n",
              "      <th></th>\n",
              "      <th>country_x</th>\n",
              "      <th>sub region 1</th>\n",
              "      <th>sub region 2</th>\n",
              "      <th>retail and recreation</th>\n",
              "      <th>grocery and pharmacy</th>\n",
              "      <th>parks</th>\n",
              "      <th>transit stations</th>\n",
              "      <th>workplaces</th>\n",
              "      <th>residential</th>\n",
              "      <th>epi_week</th>\n",
              "      <th>country_y</th>\n",
              "      <th>state</th>\n",
              "      <th>city</th>\n",
              "      <th>newDeaths</th>\n",
              "      <th>deaths</th>\n",
              "      <th>newCases</th>\n",
              "      <th>totalCases</th>\n",
              "      <th>deathsMS</th>\n",
              "      <th>totalCasesMS</th>\n",
              "      <th>deaths_per_100k_inhabitants</th>\n",
              "      <th>totalCases_per_100k_inhabitants</th>\n",
              "      <th>deaths_by_totalCases</th>\n",
              "      <th>recovered</th>\n",
              "      <th>suspects</th>\n",
              "      <th>tests</th>\n",
              "      <th>tests_per_100k_inhabitants</th>\n",
              "      <th>vaccinated</th>\n",
              "      <th>vaccinated_per_100_inhabitants</th>\n",
              "      <th>vaccinated_second</th>\n",
              "      <th>vaccinated_second_per_100_inhabitants</th>\n",
              "      <th>vaccinated_single</th>\n",
              "      <th>vaccinated_single_per_100_inhabitants</th>\n",
              "      <th>vaccinated_third</th>\n",
              "      <th>vaccinated_third_per_100_inhabitants</th>\n",
              "    </tr>\n",
              "    <tr>\n",
              "      <th>date</th>\n",
              "      <th></th>\n",
              "      <th></th>\n",
              "      <th></th>\n",
              "      <th></th>\n",
              "      <th></th>\n",
              "      <th></th>\n",
              "      <th></th>\n",
              "      <th></th>\n",
              "      <th></th>\n",
              "      <th></th>\n",
              "      <th></th>\n",
              "      <th></th>\n",
              "      <th></th>\n",
              "      <th></th>\n",
              "      <th></th>\n",
              "      <th></th>\n",
              "      <th></th>\n",
              "      <th></th>\n",
              "      <th></th>\n",
              "      <th></th>\n",
              "      <th></th>\n",
              "      <th></th>\n",
              "      <th></th>\n",
              "      <th></th>\n",
              "      <th></th>\n",
              "      <th></th>\n",
              "      <th></th>\n",
              "      <th></th>\n",
              "      <th></th>\n",
              "      <th></th>\n",
              "      <th></th>\n",
              "      <th></th>\n",
              "      <th></th>\n",
              "      <th></th>\n",
              "    </tr>\n",
              "  </thead>\n",
              "  <tbody>\n",
              "    <tr>\n",
              "      <th>2020-04-11</th>\n",
              "      <td>Brazil</td>\n",
              "      <td>Federal District</td>\n",
              "      <td>Total</td>\n",
              "      <td>-54.0</td>\n",
              "      <td>0.0</td>\n",
              "      <td>-50.0</td>\n",
              "      <td>-46.0</td>\n",
              "      <td>-38.0</td>\n",
              "      <td>16.0</td>\n",
              "      <td>15</td>\n",
              "      <td>Brazil</td>\n",
              "      <td>DF</td>\n",
              "      <td>TOTAL</td>\n",
              "      <td>0</td>\n",
              "      <td>14</td>\n",
              "      <td>36</td>\n",
              "      <td>592</td>\n",
              "      <td>14</td>\n",
              "      <td>579</td>\n",
              "      <td>0.46430</td>\n",
              "      <td>19.63341</td>\n",
              "      <td>0.02365</td>\n",
              "      <td>148.0</td>\n",
              "      <td>72.0</td>\n",
              "      <td>NaN</td>\n",
              "      <td>NaN</td>\n",
              "      <td>NaN</td>\n",
              "      <td>NaN</td>\n",
              "      <td>NaN</td>\n",
              "      <td>NaN</td>\n",
              "      <td>NaN</td>\n",
              "      <td>NaN</td>\n",
              "      <td>NaN</td>\n",
              "      <td>NaN</td>\n",
              "    </tr>\n",
              "    <tr>\n",
              "      <th>2020-09-27</th>\n",
              "      <td>Brazil</td>\n",
              "      <td>Federal District</td>\n",
              "      <td>Total</td>\n",
              "      <td>-28.0</td>\n",
              "      <td>16.0</td>\n",
              "      <td>-8.0</td>\n",
              "      <td>-7.0</td>\n",
              "      <td>9.0</td>\n",
              "      <td>7.0</td>\n",
              "      <td>40</td>\n",
              "      <td>Brazil</td>\n",
              "      <td>DF</td>\n",
              "      <td>TOTAL</td>\n",
              "      <td>5</td>\n",
              "      <td>3188</td>\n",
              "      <td>905</td>\n",
              "      <td>189513</td>\n",
              "      <td>3188</td>\n",
              "      <td>189513</td>\n",
              "      <td>105.72858</td>\n",
              "      <td>6285.11297</td>\n",
              "      <td>0.01682</td>\n",
              "      <td>177073.0</td>\n",
              "      <td>12634.0</td>\n",
              "      <td>525284.0</td>\n",
              "      <td>17420.80638</td>\n",
              "      <td>NaN</td>\n",
              "      <td>NaN</td>\n",
              "      <td>NaN</td>\n",
              "      <td>NaN</td>\n",
              "      <td>NaN</td>\n",
              "      <td>NaN</td>\n",
              "      <td>NaN</td>\n",
              "      <td>NaN</td>\n",
              "    </tr>\n",
              "    <tr>\n",
              "      <th>2020-06-04</th>\n",
              "      <td>Brazil</td>\n",
              "      <td>Federal District</td>\n",
              "      <td>Total</td>\n",
              "      <td>-45.0</td>\n",
              "      <td>8.0</td>\n",
              "      <td>-43.0</td>\n",
              "      <td>-33.0</td>\n",
              "      <td>-32.0</td>\n",
              "      <td>19.0</td>\n",
              "      <td>23</td>\n",
              "      <td>Brazil</td>\n",
              "      <td>DF</td>\n",
              "      <td>TOTAL</td>\n",
              "      <td>5</td>\n",
              "      <td>196</td>\n",
              "      <td>903</td>\n",
              "      <td>12923</td>\n",
              "      <td>196</td>\n",
              "      <td>12923</td>\n",
              "      <td>6.50025</td>\n",
              "      <td>428.58545</td>\n",
              "      <td>0.01517</td>\n",
              "      <td>6916.0</td>\n",
              "      <td>3112.0</td>\n",
              "      <td>147226.0</td>\n",
              "      <td>4882.68373</td>\n",
              "      <td>NaN</td>\n",
              "      <td>NaN</td>\n",
              "      <td>NaN</td>\n",
              "      <td>NaN</td>\n",
              "      <td>NaN</td>\n",
              "      <td>NaN</td>\n",
              "      <td>NaN</td>\n",
              "      <td>NaN</td>\n",
              "    </tr>\n",
              "    <tr>\n",
              "      <th>2021-02-01</th>\n",
              "      <td>Brazil</td>\n",
              "      <td>Federal District</td>\n",
              "      <td>Total</td>\n",
              "      <td>-22.0</td>\n",
              "      <td>14.0</td>\n",
              "      <td>-14.0</td>\n",
              "      <td>-11.0</td>\n",
              "      <td>-14.0</td>\n",
              "      <td>8.0</td>\n",
              "      <td>105</td>\n",
              "      <td>Brazil</td>\n",
              "      <td>DF</td>\n",
              "      <td>TOTAL</td>\n",
              "      <td>10</td>\n",
              "      <td>4564</td>\n",
              "      <td>797</td>\n",
              "      <td>277907</td>\n",
              "      <td>4564</td>\n",
              "      <td>277907</td>\n",
              "      <td>151.36300</td>\n",
              "      <td>9216.66001</td>\n",
              "      <td>0.01642</td>\n",
              "      <td>267720.0</td>\n",
              "      <td>41.0</td>\n",
              "      <td>782118.0</td>\n",
              "      <td>25938.58987</td>\n",
              "      <td>59671.0</td>\n",
              "      <td>1.97896</td>\n",
              "      <td>NaN</td>\n",
              "      <td>NaN</td>\n",
              "      <td>NaN</td>\n",
              "      <td>NaN</td>\n",
              "      <td>NaN</td>\n",
              "      <td>NaN</td>\n",
              "    </tr>\n",
              "    <tr>\n",
              "      <th>2020-03-28</th>\n",
              "      <td>Brazil</td>\n",
              "      <td>Federal District</td>\n",
              "      <td>Total</td>\n",
              "      <td>-70.0</td>\n",
              "      <td>-30.0</td>\n",
              "      <td>-66.0</td>\n",
              "      <td>-59.0</td>\n",
              "      <td>-45.0</td>\n",
              "      <td>23.0</td>\n",
              "      <td>13</td>\n",
              "      <td>Brazil</td>\n",
              "      <td>DF</td>\n",
              "      <td>TOTAL</td>\n",
              "      <td>0</td>\n",
              "      <td>0</td>\n",
              "      <td>19</td>\n",
              "      <td>260</td>\n",
              "      <td>0</td>\n",
              "      <td>260</td>\n",
              "      <td>0.00000</td>\n",
              "      <td>8.62278</td>\n",
              "      <td>0.00000</td>\n",
              "      <td>1.0</td>\n",
              "      <td>NaN</td>\n",
              "      <td>NaN</td>\n",
              "      <td>NaN</td>\n",
              "      <td>NaN</td>\n",
              "      <td>NaN</td>\n",
              "      <td>NaN</td>\n",
              "      <td>NaN</td>\n",
              "      <td>NaN</td>\n",
              "      <td>NaN</td>\n",
              "      <td>NaN</td>\n",
              "      <td>NaN</td>\n",
              "    </tr>\n",
              "    <tr>\n",
              "      <th>2020-04-22</th>\n",
              "      <td>Brazil</td>\n",
              "      <td>Federal District</td>\n",
              "      <td>Total</td>\n",
              "      <td>-60.0</td>\n",
              "      <td>-12.0</td>\n",
              "      <td>-70.0</td>\n",
              "      <td>-46.0</td>\n",
              "      <td>-44.0</td>\n",
              "      <td>21.0</td>\n",
              "      <td>17</td>\n",
              "      <td>Brazil</td>\n",
              "      <td>DF</td>\n",
              "      <td>TOTAL</td>\n",
              "      <td>1</td>\n",
              "      <td>25</td>\n",
              "      <td>46</td>\n",
              "      <td>959</td>\n",
              "      <td>25</td>\n",
              "      <td>946</td>\n",
              "      <td>0.82911</td>\n",
              "      <td>31.80480</td>\n",
              "      <td>0.02607</td>\n",
              "      <td>523.0</td>\n",
              "      <td>118.0</td>\n",
              "      <td>NaN</td>\n",
              "      <td>NaN</td>\n",
              "      <td>NaN</td>\n",
              "      <td>NaN</td>\n",
              "      <td>NaN</td>\n",
              "      <td>NaN</td>\n",
              "      <td>NaN</td>\n",
              "      <td>NaN</td>\n",
              "      <td>NaN</td>\n",
              "      <td>NaN</td>\n",
              "    </tr>\n",
              "    <tr>\n",
              "      <th>2020-03-15</th>\n",
              "      <td>Brazil</td>\n",
              "      <td>Federal District</td>\n",
              "      <td>Total</td>\n",
              "      <td>-8.0</td>\n",
              "      <td>13.0</td>\n",
              "      <td>-9.0</td>\n",
              "      <td>-5.0</td>\n",
              "      <td>-1.0</td>\n",
              "      <td>3.0</td>\n",
              "      <td>12</td>\n",
              "      <td>Brazil</td>\n",
              "      <td>DF</td>\n",
              "      <td>TOTAL</td>\n",
              "      <td>0</td>\n",
              "      <td>0</td>\n",
              "      <td>6</td>\n",
              "      <td>14</td>\n",
              "      <td>0</td>\n",
              "      <td>8</td>\n",
              "      <td>0.00000</td>\n",
              "      <td>0.46430</td>\n",
              "      <td>0.00000</td>\n",
              "      <td>NaN</td>\n",
              "      <td>NaN</td>\n",
              "      <td>NaN</td>\n",
              "      <td>NaN</td>\n",
              "      <td>NaN</td>\n",
              "      <td>NaN</td>\n",
              "      <td>NaN</td>\n",
              "      <td>NaN</td>\n",
              "      <td>NaN</td>\n",
              "      <td>NaN</td>\n",
              "      <td>NaN</td>\n",
              "      <td>NaN</td>\n",
              "    </tr>\n",
              "    <tr>\n",
              "      <th>2020-12-31</th>\n",
              "      <td>Brazil</td>\n",
              "      <td>Federal District</td>\n",
              "      <td>Total</td>\n",
              "      <td>-26.0</td>\n",
              "      <td>58.0</td>\n",
              "      <td>23.0</td>\n",
              "      <td>-24.0</td>\n",
              "      <td>-39.0</td>\n",
              "      <td>9.0</td>\n",
              "      <td>53</td>\n",
              "      <td>Brazil</td>\n",
              "      <td>DF</td>\n",
              "      <td>TOTAL</td>\n",
              "      <td>11</td>\n",
              "      <td>4259</td>\n",
              "      <td>566</td>\n",
              "      <td>251701</td>\n",
              "      <td>4259</td>\n",
              "      <td>251701</td>\n",
              "      <td>141.24781</td>\n",
              "      <td>8347.54987</td>\n",
              "      <td>0.01692</td>\n",
              "      <td>241413.0</td>\n",
              "      <td>NaN</td>\n",
              "      <td>771909.0</td>\n",
              "      <td>25600.01300</td>\n",
              "      <td>NaN</td>\n",
              "      <td>NaN</td>\n",
              "      <td>NaN</td>\n",
              "      <td>NaN</td>\n",
              "      <td>NaN</td>\n",
              "      <td>NaN</td>\n",
              "      <td>NaN</td>\n",
              "      <td>NaN</td>\n",
              "    </tr>\n",
              "    <tr>\n",
              "      <th>2021-01-24</th>\n",
              "      <td>Brazil</td>\n",
              "      <td>Federal District</td>\n",
              "      <td>Total</td>\n",
              "      <td>-22.0</td>\n",
              "      <td>15.0</td>\n",
              "      <td>-10.0</td>\n",
              "      <td>-5.0</td>\n",
              "      <td>8.0</td>\n",
              "      <td>5.0</td>\n",
              "      <td>104</td>\n",
              "      <td>Brazil</td>\n",
              "      <td>DF</td>\n",
              "      <td>TOTAL</td>\n",
              "      <td>8</td>\n",
              "      <td>4476</td>\n",
              "      <td>821</td>\n",
              "      <td>270171</td>\n",
              "      <td>4476</td>\n",
              "      <td>270171</td>\n",
              "      <td>148.44452</td>\n",
              "      <td>8960.09907</td>\n",
              "      <td>0.01657</td>\n",
              "      <td>259164.0</td>\n",
              "      <td>68.0</td>\n",
              "      <td>771909.0</td>\n",
              "      <td>25600.01300</td>\n",
              "      <td>15134.0</td>\n",
              "      <td>0.50191</td>\n",
              "      <td>NaN</td>\n",
              "      <td>NaN</td>\n",
              "      <td>NaN</td>\n",
              "      <td>NaN</td>\n",
              "      <td>NaN</td>\n",
              "      <td>NaN</td>\n",
              "    </tr>\n",
              "    <tr>\n",
              "      <th>2021-05-13</th>\n",
              "      <td>Brazil</td>\n",
              "      <td>Federal District</td>\n",
              "      <td>Total</td>\n",
              "      <td>-13.0</td>\n",
              "      <td>38.0</td>\n",
              "      <td>2.0</td>\n",
              "      <td>-5.0</td>\n",
              "      <td>-10.0</td>\n",
              "      <td>10.0</td>\n",
              "      <td>119</td>\n",
              "      <td>Brazil</td>\n",
              "      <td>DF</td>\n",
              "      <td>TOTAL</td>\n",
              "      <td>34</td>\n",
              "      <td>8251</td>\n",
              "      <td>939</td>\n",
              "      <td>390117</td>\n",
              "      <td>8251</td>\n",
              "      <td>390117</td>\n",
              "      <td>273.64068</td>\n",
              "      <td>12938.05393</td>\n",
              "      <td>0.02115</td>\n",
              "      <td>372483.0</td>\n",
              "      <td>566.0</td>\n",
              "      <td>782118.0</td>\n",
              "      <td>25938.58987</td>\n",
              "      <td>541313.0</td>\n",
              "      <td>17.95240</td>\n",
              "      <td>288138.0</td>\n",
              "      <td>9.55597</td>\n",
              "      <td>NaN</td>\n",
              "      <td>NaN</td>\n",
              "      <td>NaN</td>\n",
              "      <td>NaN</td>\n",
              "    </tr>\n",
              "  </tbody>\n",
              "</table>\n",
              "</div>"
            ],
            "text/plain": [
              "           country_x  ... vaccinated_third_per_100_inhabitants\n",
              "date                  ...                                     \n",
              "2020-04-11    Brazil  ...                                  NaN\n",
              "2020-09-27    Brazil  ...                                  NaN\n",
              "2020-06-04    Brazil  ...                                  NaN\n",
              "2021-02-01    Brazil  ...                                  NaN\n",
              "2020-03-28    Brazil  ...                                  NaN\n",
              "2020-04-22    Brazil  ...                                  NaN\n",
              "2020-03-15    Brazil  ...                                  NaN\n",
              "2020-12-31    Brazil  ...                                  NaN\n",
              "2021-01-24    Brazil  ...                                  NaN\n",
              "2021-05-13    Brazil  ...                                  NaN\n",
              "\n",
              "[10 rows x 34 columns]"
            ]
          },
          "metadata": {},
          "execution_count": 26
        }
      ]
    },
    {
      "cell_type": "code",
      "metadata": {
        "id": "m8Me-Xdnr9sL"
      },
      "source": [
        "df_corr = df_geral1[['retail and recreation',\n",
        "       'grocery and pharmacy', 'parks', 'transit stations', 'workplaces',\n",
        "       'residential','newCases','newDeaths']]"
      ],
      "execution_count": 27,
      "outputs": []
    },
    {
      "cell_type": "markdown",
      "metadata": {
        "id": "oo5I-e64sxDX"
      },
      "source": [
        "## Correlation between mobility and covid19 cases (without lag)"
      ]
    },
    {
      "cell_type": "code",
      "metadata": {
        "id": "kncoT-Par9sM"
      },
      "source": [
        "dfcorr = df_corr.corr()"
      ],
      "execution_count": 28,
      "outputs": []
    },
    {
      "cell_type": "code",
      "metadata": {
        "colab": {
          "base_uri": "https://localhost:8080/",
          "height": 587
        },
        "id": "erozEPQKr9sM",
        "outputId": "2f162b29-2bbb-4d56-e122-429b06f79250"
      },
      "source": [
        "fig, (ax2) = plt.subplots(1,figsize=(10,5),dpi=100)\n",
        "cmap = sb.diverging_palette(230, 20, as_cmap=True)\n",
        "\n",
        "sb.heatmap(dfcorr,annot=True);"
      ],
      "execution_count": 29,
      "outputs": [
        {
          "output_type": "display_data",
          "data": {
            "image/png": "[encoded data removed]",
            "text/plain": [
              "<Figure size 1000x500 with 2 Axes>"
            ]
          },
          "metadata": {
            "needs_background": "light"
          }
        }
      ]
    },
    {
      "cell_type": "markdown",
      "metadata": {
        "id": "36vjVeEws5dt"
      },
      "source": [
        "## Correlation analysis between covid19 and mobility with Lag (weeks)"
      ]
    },
    {
      "cell_type": "code",
      "metadata": {
        "id": "hWhS7qmMr9sM"
      },
      "source": [
        "df_new = df_corr.resample('W').mean()"
      ],
      "execution_count": 30,
      "outputs": []
    },
    {
      "cell_type": "code",
      "metadata": {
        "id": "Iveimm9Cr9sM"
      },
      "source": [
        "max_lag=30\n",
        "lagged_correlation = pd.DataFrame.from_dict(\n",
        "    {x: [df_new['newCases'].corr(df_new[x].shift(-t)) for t in range(max_lag)] for x in df_new.columns})"
      ],
      "execution_count": 31,
      "outputs": []
    },
    {
      "cell_type": "markdown",
      "metadata": {
        "id": "zPM1N-NRtlm_"
      },
      "source": [
        "A correlação máxima entre a mobilidade (do tipo *parks*) e mortes diárias por covid19 ocorre num lag de quatro a oito semanas:"
      ]
    },
    {
      "cell_type": "code",
      "metadata": {
        "colab": {
          "base_uri": "https://localhost:8080/",
          "height": 350
        },
        "id": "0LpCLmWir9sM",
        "outputId": "db7e0186-d3c4-4141-8af1-db9ae0bc70d9"
      },
      "source": [
        "fig, ax = plt.subplots(figsize=(10,5))\n",
        "plt.plot(lagged_correlation.index,lagged_correlation['parks'],'o',alpha=0.7);\n",
        "plt.xlabel('Lag (weeks)')\n",
        "plt.ylabel('new Deaths')\n",
        "plt.title('Correlation Index')\n",
        "plt.axvline(x = 8, color = 'r',lw = 80,alpha = 0.2) \n",
        "plt.show()\n"
      ],
      "execution_count": 34,
      "outputs": [
        {
          "output_type": "display_data",
          "data": {
            "image/png": "[encoded data removed]",
            "text/plain": [
              "<Figure size 720x360 with 1 Axes>"
            ]
          },
          "metadata": {
            "needs_background": "light"
          }
        }
      ]
    },
    {
      "cell_type": "code",
      "metadata": {
        "id": "6DqAJvper9sN"
      },
      "source": [
        ""
      ],
      "execution_count": null,
      "outputs": []
    }
  ]
}